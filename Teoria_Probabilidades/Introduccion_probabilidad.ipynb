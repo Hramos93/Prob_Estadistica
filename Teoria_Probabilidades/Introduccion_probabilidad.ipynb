{
 "cells": [
  {
   "cell_type": "code",
   "execution_count": 46,
   "metadata": {},
   "outputs": [],
   "source": [
    "import pandas as pd\n",
    "import matplotlib.pyplot as plt\n",
    "import numpy as np"
   ]
  },
  {
   "cell_type": "markdown",
   "metadata": {},
   "source": [
    "## Introdución a la Probabilidad"
   ]
  },
  {
   "cell_type": "markdown",
   "metadata": {},
   "source": [
    "<cite> El conocimiento estadistico y probabilístico aplicado es el núcleo del conocimiento; la estadística es lo que te dice si algo es verdadero,falso o anecdotico; es la \"lógica de la ciencia\"; es el instrumento de la asunción de riesgos.... no se puede ser un profesional moderno y no pensar probabilísticamente (Nassim Nicolás Taleb) <cite> "
   ]
  },
  {
   "cell_type": "markdown",
   "metadata": {},
   "source": [
    "<p> Esta serie de notebooks son  un complemento para el curso de probabilidades y estádistica para ingeniería que estoy impartiendo actualmente, revisaré algunos aspectos fundamentales de la teoría de la probabilidad básica, será un material bastante básico pero con la intención de esclarecer la idea de probabilidad en los estudiantes que se introducen en la materia.</p>"
   ]
  },
  {
   "cell_type": "markdown",
   "metadata": {},
   "source": [
    "<img src=\"../assets/image/intro.jpg\" width=\"800\" height=\"200\"/>"
   ]
  },
  {
   "cell_type": "markdown",
   "metadata": {},
   "source": [
    "### ¿Qué es la probabilidad?"
   ]
  },
  {
   "cell_type": "markdown",
   "metadata": {},
   "source": [
    "Para definir la probabilidad nos quedaremos con la definición clasica que plantea Laplace, donde en plantea que la probabilidad se comparte por igual entre odos los resultados posibles, siempre que los resultados se consideren igualmente probabables."
   ]
  },
  {
   "cell_type": "markdown",
   "metadata": {},
   "source": [
    "<cite> La teoría de la probabilidad consiste en reducir todos los eventos de un mismo tipo de casos igualmente probables y determinar el número de casos favorables al evento de la probabilidad que se busca (Pierre-Simon Laplace)<cite>\n",
    "\n",
    "###### Si bien esta definición ofrece limitaciones, como que solo hay un número finitos de resultados posibles y plantear que los resultados son igualmente probables, pero por ahora nos resulta útil para comprender la idea"
   ]
  },
  {
   "cell_type": "markdown",
   "metadata": {},
   "source": [
    "<p> Entonces para conocer la probabilidad de un evento <i>A</i> </p> \n",
    "\n",
    "$$ P(A) = \\frac{N_i}{N}"
   ]
  },
  {
   "cell_type": "markdown",
   "metadata": {},
   "source": [
    "Una pregunta clásica es acerca del lanzamiento de monedas, ¿Cuál es la probabilidad de que salga cara en la moneda simetrica? \n",
    "###### simetrica quiere decir que la moneda no esta doblada o pesa más de un lado. "
   ]
  },
  {
   "cell_type": "markdown",
   "metadata": {},
   "source": [
    "Por la formula presentada el resultado sería:\n",
    "$$ P(A) = \\frac{N_i} {N} = \\frac{1}{2} $$\n",
    "\n",
    "\n"
   ]
  },
  {
   "cell_type": "markdown",
   "metadata": {},
   "source": [
    "Es decir, un elemento de todas las posibilidades en este caso cara sobre todos los posibles resultados cara o sello, es decir 2."
   ]
  },
  {
   "cell_type": "markdown",
   "metadata": {},
   "source": [
    "Esta relación se mantiene, si lanzamos varias veces la moneda quiere decir que obtendremos la mitad de las veces cara y la otra mitad sello?"
   ]
  },
  {
   "cell_type": "markdown",
   "metadata": {},
   "source": [
    "Hagamos una simulación"
   ]
  },
  {
   "cell_type": "markdown",
   "metadata": {},
   "source": [
    "Sabiendo que la probabilidad de cada elemento es 1/2 que sea cara o que se sello. \n",
    "Denotaremos los elementos como <cite>T y H ; T= Tail y H=head <cite>, esta notación es para seguir la nomeclatura en caso de que utilizar libros en inglés"
   ]
  },
  {
   "cell_type": "code",
   "execution_count": 47,
   "metadata": {},
   "outputs": [],
   "source": [
    "lanzamientos  = 10\n",
    "opciones = ['H','T']\n",
    "prob = [0.5 , 0.5]"
   ]
  },
  {
   "cell_type": "code",
   "execution_count": 48,
   "metadata": {},
   "outputs": [
    {
     "data": {
      "text/plain": [
       "array(['T', 'H', 'H', 'T', 'H', 'H', 'T', 'H', 'H', 'H'], dtype='<U1')"
      ]
     },
     "execution_count": 48,
     "metadata": {},
     "output_type": "execute_result"
    }
   ],
   "source": [
    "simulacion = np.random.choice(['H','T'],size=lanzamientos, p=prob)\n",
    "simulacion"
   ]
  },
  {
   "cell_type": "code",
   "execution_count": 49,
   "metadata": {},
   "outputs": [
    {
     "name": "stdout",
     "output_type": "stream",
     "text": [
      "Para 10 la probabilidad de obtener cara fue 0.7\n"
     ]
    }
   ],
   "source": [
    "valores, cant = np.unique(simulacion, return_counts=True)\n",
    "print(\"Para {lan} la probabilidad de obtener cara fue {p}\".format(lan=lanzamientos,p=cant[0]/len(simulacion)))"
   ]
  },
  {
   "cell_type": "markdown",
   "metadata": {},
   "source": [
    "Otra formula que debemos tener encuenta es el error estandar, tengamos esta formula en cuenta en todo momento.\n",
    "\n",
    "$$ SE = \\frac{\\sigma}{\\sqrt{N}}"
   ]
  },
  {
   "cell_type": "markdown",
   "metadata": {},
   "source": [
    "Si nuestra desviación estandar es 1/2 y la cantidad de lanzamientos es 10, nuestro error es:\n",
    "$$ SE =  \\frac{0.5}{10}"
   ]
  },
  {
   "cell_type": "markdown",
   "metadata": {},
   "source": [
    "Crearemos un código para realizar la misma prueba varias veces"
   ]
  },
  {
   "cell_type": "code",
   "execution_count": 50,
   "metadata": {},
   "outputs": [
    {
     "data": {
      "text/plain": [
       "0.15811388300841897"
      ]
     },
     "execution_count": 50,
     "metadata": {},
     "output_type": "execute_result"
    }
   ],
   "source": [
    "0.5/np.sqrt(10)"
   ]
  },
  {
   "cell_type": "code",
   "execution_count": 51,
   "metadata": {},
   "outputs": [],
   "source": [
    "def testI(lanzamientos:int,result:bool):\n",
    "    a  = lanzamientos\n",
    "    opciones = ['H','T']\n",
    "    prob = [0.5 , 0.5]\n",
    "    simulacion = np.random.choice(['H','T'],size=lanzamientos, p=prob)\n",
    "    valores, cant = np.unique(simulacion, return_counts=True)\n",
    "    if result==True:\n",
    "        return print(\"Para {lan} la probabilidad de obtener cara fue {p}\".format(lan=lanzamientos,p=cant[0]/a))\n",
    "    else:\n",
    "        return cant[0]/len(simulacion)\n"
   ]
  },
  {
   "cell_type": "code",
   "execution_count": 52,
   "metadata": {},
   "outputs": [
    {
     "name": "stdout",
     "output_type": "stream",
     "text": [
      "Para 10 la probabilidad de obtener cara fue 0.2\n"
     ]
    }
   ],
   "source": [
    "testI(10,True)"
   ]
  },
  {
   "cell_type": "code",
   "execution_count": 53,
   "metadata": {},
   "outputs": [
    {
     "name": "stdout",
     "output_type": "stream",
     "text": [
      "Para 10 la probabilidad de obtener cara fue 0.6\n",
      "Para 10 la probabilidad de obtener cara fue 0.6\n",
      "Para 10 la probabilidad de obtener cara fue 0.5\n",
      "Para 10 la probabilidad de obtener cara fue 0.7\n",
      "Para 10 la probabilidad de obtener cara fue 0.4\n",
      "Para 10 la probabilidad de obtener cara fue 0.6\n",
      "Para 10 la probabilidad de obtener cara fue 0.3\n",
      "Para 10 la probabilidad de obtener cara fue 0.2\n",
      "Para 10 la probabilidad de obtener cara fue 0.3\n"
     ]
    }
   ],
   "source": [
    "prueba = 1\n",
    "while prueba < 10:\n",
    "    testI(10,True)\n",
    "    prueba +=1"
   ]
  },
  {
   "cell_type": "code",
   "execution_count": 54,
   "metadata": {},
   "outputs": [
    {
     "name": "stdout",
     "output_type": "stream",
     "text": [
      "Para 1000 la probabilidad de obtener cara fue 0.514\n",
      "Para 1000 la probabilidad de obtener cara fue 0.513\n",
      "Para 1000 la probabilidad de obtener cara fue 0.527\n",
      "Para 1000 la probabilidad de obtener cara fue 0.513\n",
      "Para 1000 la probabilidad de obtener cara fue 0.522\n",
      "Para 1000 la probabilidad de obtener cara fue 0.502\n",
      "Para 1000 la probabilidad de obtener cara fue 0.467\n",
      "Para 1000 la probabilidad de obtener cara fue 0.489\n",
      "Para 1000 la probabilidad de obtener cara fue 0.53\n"
     ]
    }
   ],
   "source": [
    "prueba = 1\n",
    "while prueba < 10:\n",
    "    testI(1000,True)\n",
    "    prueba +=1"
   ]
  },
  {
   "cell_type": "code",
   "execution_count": 55,
   "metadata": {},
   "outputs": [],
   "source": [
    "font = {'family' : 'normal',\n",
    "        'weight' : 'bold',\n",
    "        'size'   : 10}"
   ]
  },
  {
   "cell_type": "code",
   "execution_count": 56,
   "metadata": {},
   "outputs": [],
   "source": [
    "def testII(lanzamientos:int, plot=False):\n",
    "    a  = lanzamientos\n",
    "    opciones = ['H','T']\n",
    "    prob = [0.5 , 0.5]\n",
    "    simulacion = np.random.choice(['H','T'],size=lanzamientos, p=prob)\n",
    "    valores, cant = np.unique(simulacion, return_counts=True)\n",
    "\n",
    "    if plot == True:\n",
    "        plt.figure(figsize=(7,5))\n",
    "        plt.bar(valores,cant)\n",
    "        plt.title('Frecuencia de resultados ')\n",
    "        \n",
    "        plt.text(valores[0],cant[0]+(a*0.009),cant[0],font)\n",
    "        plt.text(valores[0],cant[0]-(cant[0]*0.5),'P(H)= {}'.format(round(cant[0]/cant.sum(),3)),font)\n",
    "        plt.text(valores[1],cant[1]+(a*0.009),cant[1],font)\n",
    "        plt.text(valores[1],cant[1]-(cant[1]*0.5),'P(T)= {}'.format(round(cant[1]/cant.sum(),3)),font)\n",
    "        plt.show()\n",
    "\n",
    "    else:\n",
    "        print(\"Para {lan} la probabilidad de obtener cara fue {p}\".format(lan=lanzamientos,p=cant[0]/len(simulacion)))\n",
    "\n",
    "        \n",
    "    return "
   ]
  },
  {
   "cell_type": "code",
   "execution_count": 57,
   "metadata": {},
   "outputs": [
    {
     "name": "stderr",
     "output_type": "stream",
     "text": [
      "findfont: Font family ['normal'] not found. Falling back to DejaVu Sans.\n"
     ]
    },
    {
     "data": {
      "image/png": "[encoded data removed]",
      "text/plain": [
       "<Figure size 504x360 with 1 Axes>"
      ]
     },
     "metadata": {
      "needs_background": "light"
     },
     "output_type": "display_data"
    }
   ],
   "source": [
    "testII(100,True)"
   ]
  },
  {
   "cell_type": "code",
   "execution_count": 59,
   "metadata": {},
   "outputs": [],
   "source": [
    "final = 100000\n",
    "inicio = int(final*0.001)\n"
   ]
  },
  {
   "cell_type": "code",
   "execution_count": 60,
   "metadata": {},
   "outputs": [],
   "source": [
    "guardar = {}\n",
    "for i in range(inicio,final,inicio):\n",
    "    guardar[i] = testI(i,False)\n",
    "    "
   ]
  },
  {
   "cell_type": "code",
   "execution_count": 61,
   "metadata": {},
   "outputs": [
    {
     "data": {
      "image/png": "[encoded data removed]",
      "text/plain": [
       "<Figure size 432x288 with 1 Axes>"
      ]
     },
     "metadata": {
      "needs_background": "light"
     },
     "output_type": "display_data"
    }
   ],
   "source": [
    "plt.plot(guardar.keys(), guardar.values())\n",
    "plt.show()"
   ]
  },
  {
   "cell_type": "markdown",
   "metadata": {},
   "source": [
    "<cita>En el fondo, la teoría de las probabilidades es solo el sentido común expresado con números (Simon Pierre Laplace) </cita> ”"
   ]
  }
 ],
 "metadata": {
  "interpreter": {
   "hash": "6d2a688200a928b4e9c3a766d96ba1521cb429d09713ef9fc71601f66c365dc5"
  },
  "kernelspec": {
   "display_name": "Python 3.9.1 64-bit",
   "language": "python",
   "name": "python3"
  },
  "language_info": {
   "codemirror_mode": {
    "name": "ipython",
    "version": 3
   },
   "file_extension": ".py",
   "mimetype": "text/x-python",
   "name": "python",
   "nbconvert_exporter": "python",
   "pygments_lexer": "ipython3",
   "version": "3.9.1"
  },
  "orig_nbformat": 4
 },
 "nbformat": 4,
 "nbformat_minor": 2
}
