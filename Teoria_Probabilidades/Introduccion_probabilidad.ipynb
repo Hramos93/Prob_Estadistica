{
 "cells": [
  {
   "cell_type": "code",
   "execution_count": 2,
   "metadata": {},
   "outputs": [],
   "source": [
    "import matplotlib.pyplot as plt\n",
    "import numpy as np"
   ]
  },
  {
   "cell_type": "code",
   "execution_count": 30,
   "metadata": {},
   "outputs": [],
   "source": [
    "font = {'family' : 'Arial',\n",
    "        'weight' : 'bold',\n",
    "        'size'   : 10}"
   ]
  },
  {
   "cell_type": "markdown",
   "metadata": {},
   "source": [
    "## Introdución a la Probabilidad"
   ]
  },
  {
   "cell_type": "markdown",
   "metadata": {},
   "source": [
    "<cite> El conocimiento estadístico y probabilístico aplicado es el núcleo del conocimiento; la estadística es lo que te dice si algo es verdadero, falsó o anecdótico; es la \"lógica de la ciencia\"; es el instrumento de la asunción de riesgos... no se puede ser un profesional moderno y no pensar probabilísticamente  (Nassim Nicolás Taleb) <cite> "
   ]
  },
  {
   "cell_type": "markdown",
   "metadata": {},
   "source": [
    "<p> Esta serie de notebooks son un complemento para el curso de probabilidades y estadística para ingeniería que estoy impartiendo actualmente, revisaré algunos aspectos fundamentales de la teoría de la probabilidad básica, será un material bastante básico, pero con la intención de esclarecer la idea de probabilidad en los estudiantes que se introducen en la materia.</p>"
   ]
  },
  {
   "cell_type": "markdown",
   "metadata": {},
   "source": [
    "<img src=\"../assets/image/intro.jpg\" width=\"800\" height=\"200\"/>"
   ]
  },
  {
   "cell_type": "markdown",
   "metadata": {},
   "source": [
    "### ¿Qué es la probabilidad?"
   ]
  },
  {
   "cell_type": "markdown",
   "metadata": {},
   "source": [
    "Para definir la probabilidad nos quedaremos con la definición clásica que plantea Laplace, donde en plantea que la probabilidad se comparte por igual entre todos los resultados posibles, siempre que los resultados se consideren igualmente probables."
   ]
  },
  {
   "cell_type": "markdown",
   "metadata": {},
   "source": [
    "<cite> La teoría de la probabilidad consiste en reducir todos los eventos de un mismo tipo de casos igualmente probables y determinar el número de casos favorables al evento de la probabilidad que se busca (Pierre-Simon Laplace)<cite>\n",
    "\n",
    "###### Si bien esta definición ofrece limitaciones, como que solo hay un número finitos de resultados posibles y plantear que los resultados son igualmente probables, pero por ahora nos resulta útil para comprender la idea"
   ]
  },
  {
   "cell_type": "markdown",
   "metadata": {},
   "source": [
    "<p> Entonces para conocer la probabilidad de un evento <i>A</i> </p> \n",
    "\n",
    "$$ P(A) = \\frac{N_i}{N}"
   ]
  },
  {
   "cell_type": "markdown",
   "metadata": {},
   "source": [
    "Una pregunta clásica es acerca del lanzamiento de monedas, ¿Cuál es la probabilidad de que salga cara en la moneda simetrica? \n",
    "###### simetrica quiere decir que la moneda no esta doblada o pesa más de un lado. "
   ]
  },
  {
   "cell_type": "markdown",
   "metadata": {},
   "source": [
    "Por la formula presentada el resultado sería:\n",
    "$$ P(A) = \\frac{N_i} {N} = \\frac{1}{2} $$\n",
    "\n",
    "\n"
   ]
  },
  {
   "cell_type": "markdown",
   "metadata": {},
   "source": [
    "Es decir, un elemento favorable de todas las posibilidades,en este caso cara, sobre todos los posibles resultados cara o sello. $ P(A) = \\frac{1}{2} $"
   ]
  },
  {
   "cell_type": "markdown",
   "metadata": {},
   "source": [
    "Ahora esta relación se mantiene?, si lanzamos varias veces la moneda quiere decir que obtendremos la mitad de las veces cara y la otra mitad sello?"
   ]
  },
  {
   "cell_type": "markdown",
   "metadata": {},
   "source": [
    "Hagamos una simulación"
   ]
  },
  {
   "cell_type": "markdown",
   "metadata": {},
   "source": [
    "Sabiendo que la probabilidad de cada elemento es 1/2 que sea cara o que se sello. \n",
    "Denotaremos los elementos como <cite>T y H ; T= Tail y H=head <cite>, esta notación es para seguir la nomeclatura en caso de que utilizar libros en inglés"
   ]
  },
  {
   "cell_type": "code",
   "execution_count": 3,
   "metadata": {},
   "outputs": [],
   "source": [
    "lanzamientos  = 10  #Número de lanzamientos\n",
    "opciones = ['H','T'] #opciones de resultados\n",
    "prob = [0.5 , 0.5] #Misma probabilidad para cada resultado, una moneda simetrica"
   ]
  },
  {
   "cell_type": "code",
   "execution_count": 98,
   "metadata": {},
   "outputs": [
    {
     "name": "stdout",
     "output_type": "stream",
     "text": [
      "Los resultados de 10 lanzamientos son: ['H', 'T', 'H', 'H', 'H', 'T', 'H', 'H', 'T', 'H'] \n"
     ]
    }
   ],
   "source": [
    "simulacion = np.random.choice(['H','T'],size=lanzamientos, p=prob)\n",
    "print('Los resultados de {} lanzamientos son: {} '.format(lanzamientos,simulacion.tolist()))\n"
   ]
  },
  {
   "cell_type": "code",
   "execution_count": 99,
   "metadata": {},
   "outputs": [
    {
     "name": "stdout",
     "output_type": "stream",
     "text": [
      "Para 10 lanzamientos, la frecuencia relativa de obtener cara fue 0.7\n"
     ]
    }
   ],
   "source": [
    "valores, cant = np.unique(simulacion, return_counts=True)\n",
    "print(\"Para {lan} lanzamientos, la frecuencia relativa de obtener cara fue {p}\".format(lan=lanzamientos,p=cant[0]/len(simulacion)))"
   ]
  },
  {
   "cell_type": "markdown",
   "metadata": {},
   "source": [
    "La frecuencia relativa se calcula con el número de veces que ocurre un evento dividio por el número total de de intentos en un experimento:\n",
    "\n",
    "$$ Fr = \\frac{N_o} {N_t} $$"
   ]
  },
  {
   "cell_type": "markdown",
   "metadata": {},
   "source": [
    "Diferenciemos la probabilidad teórica de la frecuencia relativa para poder separar estos conceptos:\n",
    "La probabilidad teórica de lanzar una moneda es:  $ \\frac{1}{2} $, pero es posible que de 10 lanzamientos no se obtenga exactamente 5/5 de los reusltados, pero bien debería de estar cerca."
   ]
  },
  {
   "cell_type": "markdown",
   "metadata": {},
   "source": [
    "Si se lanza una moneda cien veces, la cantidad de veces que aparece el resultado a estudiar seria la frecuencia relativa, de modo que si de 10 lanzamientos 6 fueron cara, la fruencia relativa de lanzar cara sería $ \\frac{6}{10} $"
   ]
  },
  {
   "cell_type": "markdown",
   "metadata": {},
   "source": [
    "Construyamos una función para seguir experimentando de manera repetida."
   ]
  },
  {
   "cell_type": "code",
   "execution_count": 100,
   "metadata": {},
   "outputs": [],
   "source": [
    "#Tenemos un trigger como boleano para determinar si mostraremos una string o solo la cantidad \n",
    "def testI(lanzamientos:int,result:bool):\n",
    "    a  = lanzamientos\n",
    "    opciones = ['H','T']\n",
    "    prob = [0.5 , 0.5]\n",
    "    simulacion = np.random.choice(opciones,size=lanzamientos, p=prob)\n",
    "    valores, cant = np.unique(simulacion, return_counts=True)\n",
    "    if result==True:\n",
    "        return print(\"Para {lan} lanzamientos la frecuencia relativa de obtener cara fue {p}\".format(lan=lanzamientos,p=cant[0]/a))\n",
    "    else:\n",
    "        return cant[0]/len(simulacion)\n"
   ]
  },
  {
   "cell_type": "code",
   "execution_count": 101,
   "metadata": {},
   "outputs": [
    {
     "name": "stdout",
     "output_type": "stream",
     "text": [
      "Para 10 lanzamientos la frecuencia relativa de obtener cara fue 0.8\n"
     ]
    }
   ],
   "source": [
    "testI(10,True)"
   ]
  },
  {
   "cell_type": "markdown",
   "metadata": {},
   "source": [
    "Realizemos el test varias veces"
   ]
  },
  {
   "cell_type": "code",
   "execution_count": 102,
   "metadata": {},
   "outputs": [
    {
     "name": "stdout",
     "output_type": "stream",
     "text": [
      "Para 10 lanzamientos la frecuencia relativa de obtener cara fue 0.5\n",
      "Para 10 lanzamientos la frecuencia relativa de obtener cara fue 0.6\n",
      "Para 10 lanzamientos la frecuencia relativa de obtener cara fue 0.7\n",
      "Para 10 lanzamientos la frecuencia relativa de obtener cara fue 0.8\n",
      "Para 10 lanzamientos la frecuencia relativa de obtener cara fue 0.6\n",
      "Para 10 lanzamientos la frecuencia relativa de obtener cara fue 0.3\n",
      "Para 10 lanzamientos la frecuencia relativa de obtener cara fue 0.3\n",
      "Para 10 lanzamientos la frecuencia relativa de obtener cara fue 0.5\n",
      "Para 10 lanzamientos la frecuencia relativa de obtener cara fue 0.7\n",
      "Para 10 lanzamientos la frecuencia relativa de obtener cara fue 0.3\n"
     ]
    }
   ],
   "source": [
    "test = 0 #inicializamos el contandor en 1\n",
    "while test < 10:  #repetiremos el test 10 veces\n",
    "    testI(10,True) #cada repetición constara de 10 lanzamientos\n",
    "    test +=1"
   ]
  },
  {
   "cell_type": "markdown",
   "metadata": {},
   "source": [
    "Se repite el comportamiento esperado al que cuando hicimos una solo test, es decir valores que se mueven cerca al 0.5"
   ]
  },
  {
   "cell_type": "markdown",
   "metadata": {},
   "source": [
    "¿Qué ocurre si aumentamos la cantidad de lanzamientos?"
   ]
  },
  {
   "cell_type": "code",
   "execution_count": 103,
   "metadata": {},
   "outputs": [
    {
     "name": "stdout",
     "output_type": "stream",
     "text": [
      "Para 1000 lanzamientos la frecuencia relativa de obtener cara fue 0.504\n",
      "Para 1000 lanzamientos la frecuencia relativa de obtener cara fue 0.482\n",
      "Para 1000 lanzamientos la frecuencia relativa de obtener cara fue 0.476\n",
      "Para 1000 lanzamientos la frecuencia relativa de obtener cara fue 0.472\n",
      "Para 1000 lanzamientos la frecuencia relativa de obtener cara fue 0.537\n",
      "Para 1000 lanzamientos la frecuencia relativa de obtener cara fue 0.455\n",
      "Para 1000 lanzamientos la frecuencia relativa de obtener cara fue 0.507\n",
      "Para 1000 lanzamientos la frecuencia relativa de obtener cara fue 0.529\n",
      "Para 1000 lanzamientos la frecuencia relativa de obtener cara fue 0.509\n"
     ]
    }
   ],
   "source": [
    "#Aumentamos la cantidad de lanzamientos a 1000\n",
    "test = 1\n",
    "while test < 10:\n",
    "    testI(1000,True)\n",
    "    test +=1"
   ]
  },
  {
   "cell_type": "markdown",
   "metadata": {},
   "source": [
    "Esta vez los valores estuvieron más cerca del 0.5 y se continuaran acercando a medida que aumentos el valor de los lanzamientos, esta idea se explica con la ley de los grandes números y el concepto de frecuencia relativa.\n",
    "\n",
    "<a href=\" https://en.wikipedia.org/wiki/Law_of_large_numbers\">    Ley de los grandes números </a>"
   ]
  },
  {
   "cell_type": "markdown",
   "metadata": {},
   "source": [
    "Continuando con la idea intentemos gráficar el comportamiento para tener una idea visual del asunto"
   ]
  },
  {
   "cell_type": "code",
   "execution_count": 108,
   "metadata": {},
   "outputs": [],
   "source": [
    "def testII(lanzamientos:int, plot=False):\n",
    "    a  = lanzamientos\n",
    "    opciones = ['H','T']\n",
    "    prob = [0.5 , 0.5]\n",
    "    simulacion = np.random.choice(opciones,size=lanzamientos, p=prob)\n",
    "    valores, cant = np.unique(simulacion, return_counts=True)\n",
    "\n",
    "    if plot == True:\n",
    "        plt.figure(figsize=(7,5))\n",
    "        plt.bar(valores,cant)\n",
    "        plt.title('Frecuencia relativa ')\n",
    "        \n",
    "        plt.text(valores[0],cant[0]+(a*0.009),cant[0],font)\n",
    "        plt.text(valores[0],cant[0]-(cant[0]*0.5),'Fr= {}'.format(round(cant[0]/cant.sum(),3)),font)\n",
    "        plt.text(valores[1],cant[1]+(a*0.009),cant[1],font)\n",
    "        plt.text(valores[1],cant[1]-(cant[1]*0.5),'Fr= {}'.format(round(cant[1]/cant.sum(),3)),font)\n",
    "        plt.show()\n",
    "\n",
    "    else:\n",
    "              \n",
    "        return valores, cant"
   ]
  },
  {
   "cell_type": "code",
   "execution_count": 109,
   "metadata": {},
   "outputs": [
    {
     "data": {
      "image/png": "[encoded data removed]",
      "text/plain": [
       "<Figure size 504x360 with 1 Axes>"
      ]
     },
     "metadata": {
      "needs_background": "light"
     },
     "output_type": "display_data"
    }
   ],
   "source": [
    "testII(1000,True)"
   ]
  },
  {
   "cell_type": "markdown",
   "metadata": {},
   "source": [
    "Si se repite el procedimiento varias veces observaremos como las barras cada vez tienen un tamaño similar, o tal y como indica la ley de los grandes números para pocos lanzamientos la frecuencia es inestable, pero si aumentamos los lanzamientos el valor va a estabilizarse, en este caso converger sobre 0.5"
   ]
  },
  {
   "cell_type": "markdown",
   "metadata": {},
   "source": [
    "Destacar que no se quiere decir que al aumentar la frecuencia se observa una compensación, es decir, si luego de varios intentos con un resultado el siguiente pudiese ser el resultado opuesto, no es así, se debe tener encuentra que los resultados son mutuamente excluyentes, solo despues de muchas repeticiones encontraremos que el valor converge."
   ]
  },
  {
   "cell_type": "markdown",
   "metadata": {},
   "source": [
    "Veamos el gráfico de la frecuencia relativa"
   ]
  },
  {
   "cell_type": "code",
   "execution_count": 87,
   "metadata": {},
   "outputs": [],
   "source": [
    "final = 100000 #número final de lanzamientos\n",
    "inicio = int(final*0.001) #número inicial\n"
   ]
  },
  {
   "cell_type": "code",
   "execution_count": 88,
   "metadata": {},
   "outputs": [],
   "source": [
    "resultados = {}\n",
    "for i in range(inicio,final,inicio):\n",
    "    resultados[i] = testI(i,False)\n",
    "    "
   ]
  },
  {
   "cell_type": "code",
   "execution_count": 97,
   "metadata": {},
   "outputs": [
    {
     "data": {
      "image/png": "[encoded data removed]",
      "text/plain": [
       "<Figure size 432x288 with 1 Axes>"
      ]
     },
     "metadata": {
      "needs_background": "light"
     },
     "output_type": "display_data"
    }
   ],
   "source": [
    "plt.plot(resultados.keys(), resultados.values())\n",
    "plt.title('Frecuencia relativa del lanzamiento de monedas')\n",
    "plt.xlabel('Lanzamientos')\n",
    "plt.ylabel('Frecuencia relativa')\n",
    "plt.grid()\n",
    "plt.show()"
   ]
  },
  {
   "cell_type": "markdown",
   "metadata": {},
   "source": [
    "La frecuecia relativa se usa cuando la probabildiad se estima usando los resultados de un experimento, por ejemplo, para un evento se puede desconocer la probabilidad teórica pero repitiendo el evento con los mismos criterios podemos obtener una probabilidad experimental o frecuencia relativa."
   ]
  },
  {
   "cell_type": "markdown",
   "metadata": {},
   "source": [
    "Tener una idea clara de lo que representa la probalidad y las nociones de incertidumbre es el primer paso para superar los sesgo, si bien la educación teórica es fundamental los invito a realizar distintos experimentos con las herramientas presentadas de manera que puedan llevar una educación experimental de manera de rofrozar la formación del razonamiento probabilístico. "
   ]
  },
  {
   "cell_type": "markdown",
   "metadata": {},
   "source": [
    "<cita>En el fondo, la teoría de las probabilidades es solo el sentido común expresado con números (Simon Pierre Laplace) </cita> ”"
   ]
  }
 ],
 "metadata": {
  "interpreter": {
   "hash": "6d2a688200a928b4e9c3a766d96ba1521cb429d09713ef9fc71601f66c365dc5"
  },
  "kernelspec": {
   "display_name": "Python 3.9.1 64-bit",
   "language": "python",
   "name": "python3"
  },
  "language_info": {
   "codemirror_mode": {
    "name": "ipython",
    "version": 3
   },
   "file_extension": ".py",
   "mimetype": "text/x-python",
   "name": "python",
   "nbconvert_exporter": "python",
   "pygments_lexer": "ipython3",
   "version": "3.9.1"
  },
  "orig_nbformat": 4
 },
 "nbformat": 4,
 "nbformat_minor": 2
}
